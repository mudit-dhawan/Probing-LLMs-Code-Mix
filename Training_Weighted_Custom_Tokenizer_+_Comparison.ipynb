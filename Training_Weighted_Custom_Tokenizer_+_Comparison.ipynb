{
  "nbformat": 4,
  "nbformat_minor": 0,
  "metadata": {
    "accelerator": "GPU",
    "colab": {
      "name": "Training Weighted Custom-Tokenizer + Comparison",
      "provenance": [],
      "collapsed_sections": [
        "FiO5UEjw4YqT"
      ],
      "machine_shape": "hm"
    },
    "kernelspec": {
      "display_name": "Python 3",
      "name": "python3"
    },
    "language_info": {
      "codemirror_mode": {
        "name": "ipython",
        "version": 3
      },
      "file_extension": ".py",
      "mimetype": "text/x-python",
      "name": "python",
      "nbconvert_exporter": "python",
      "pygments_lexer": "ipython3",
      "version": "3.6.6"
    },
    "widgets": {
      "application/vnd.jupyter.widget-state+json": {
        "6fa24732372e44eebe03b169ddb0481f": {
          "model_module": "@jupyter-widgets/controls",
          "model_name": "HBoxModel",
          "model_module_version": "1.5.0",
          "state": {
            "_view_name": "HBoxView",
            "_dom_classes": [],
            "_model_name": "HBoxModel",
            "_view_module": "@jupyter-widgets/controls",
            "_model_module_version": "1.5.0",
            "_view_count": null,
            "_view_module_version": "1.5.0",
            "box_style": "",
            "layout": "IPY_MODEL_2749dfdd4c3d41f5b5e13f4e06d3f89e",
            "_model_module": "@jupyter-widgets/controls",
            "children": [
              "IPY_MODEL_626c47ef76c745eeab860f509d9d11a9",
              "IPY_MODEL_0cb833b83c034475ba89f6f62cb66e6c"
            ]
          }
        },
        "2749dfdd4c3d41f5b5e13f4e06d3f89e": {
          "model_module": "@jupyter-widgets/base",
          "model_name": "LayoutModel",
          "model_module_version": "1.2.0",
          "state": {
            "_view_name": "LayoutView",
            "grid_template_rows": null,
            "right": null,
            "justify_content": null,
            "_view_module": "@jupyter-widgets/base",
            "overflow": null,
            "_model_module_version": "1.2.0",
            "_view_count": null,
            "flex_flow": null,
            "width": null,
            "min_width": null,
            "border": null,
            "align_items": null,
            "bottom": null,
            "_model_module": "@jupyter-widgets/base",
            "top": null,
            "grid_column": null,
            "overflow_y": null,
            "overflow_x": null,
            "grid_auto_flow": null,
            "grid_area": null,
            "grid_template_columns": null,
            "flex": null,
            "_model_name": "LayoutModel",
            "justify_items": null,
            "grid_row": null,
            "max_height": null,
            "align_content": null,
            "visibility": null,
            "align_self": null,
            "height": null,
            "min_height": null,
            "padding": null,
            "grid_auto_rows": null,
            "grid_gap": null,
            "max_width": null,
            "order": null,
            "_view_module_version": "1.2.0",
            "grid_template_areas": null,
            "object_position": null,
            "object_fit": null,
            "grid_auto_columns": null,
            "margin": null,
            "display": null,
            "left": null
          }
        },
        "626c47ef76c745eeab860f509d9d11a9": {
          "model_module": "@jupyter-widgets/controls",
          "model_name": "FloatProgressModel",
          "model_module_version": "1.5.0",
          "state": {
            "_view_name": "ProgressView",
            "style": "IPY_MODEL_11883daec8f045d88a6810c978e41878",
            "_dom_classes": [],
            "description": "Downloading: 100%",
            "_model_name": "FloatProgressModel",
            "bar_style": "success",
            "max": 2952532,
            "_view_module": "@jupyter-widgets/controls",
            "_model_module_version": "1.5.0",
            "value": 2952532,
            "_view_count": null,
            "_view_module_version": "1.5.0",
            "orientation": "horizontal",
            "min": 0,
            "description_tooltip": null,
            "_model_module": "@jupyter-widgets/controls",
            "layout": "IPY_MODEL_51e80c9acd0a4e01b0f30d658a00e848"
          }
        },
        "0cb833b83c034475ba89f6f62cb66e6c": {
          "model_module": "@jupyter-widgets/controls",
          "model_name": "HTMLModel",
          "model_module_version": "1.5.0",
          "state": {
            "_view_name": "HTMLView",
            "style": "IPY_MODEL_d30033b895e7403da44be242a5ffdb8f",
            "_dom_classes": [],
            "description": "",
            "_model_name": "HTMLModel",
            "placeholder": "​",
            "_view_module": "@jupyter-widgets/controls",
            "_model_module_version": "1.5.0",
            "value": " 2.95M/2.95M [00:01&lt;00:00, 2.36MB/s]",
            "_view_count": null,
            "_view_module_version": "1.5.0",
            "description_tooltip": null,
            "_model_module": "@jupyter-widgets/controls",
            "layout": "IPY_MODEL_10231796d7104d608384e6a2389a3beb"
          }
        },
        "11883daec8f045d88a6810c978e41878": {
          "model_module": "@jupyter-widgets/controls",
          "model_name": "ProgressStyleModel",
          "model_module_version": "1.5.0",
          "state": {
            "_view_name": "StyleView",
            "_model_name": "ProgressStyleModel",
            "description_width": "initial",
            "_view_module": "@jupyter-widgets/base",
            "_model_module_version": "1.5.0",
            "_view_count": null,
            "_view_module_version": "1.2.0",
            "bar_color": null,
            "_model_module": "@jupyter-widgets/controls"
          }
        },
        "51e80c9acd0a4e01b0f30d658a00e848": {
          "model_module": "@jupyter-widgets/base",
          "model_name": "LayoutModel",
          "model_module_version": "1.2.0",
          "state": {
            "_view_name": "LayoutView",
            "grid_template_rows": null,
            "right": null,
            "justify_content": null,
            "_view_module": "@jupyter-widgets/base",
            "overflow": null,
            "_model_module_version": "1.2.0",
            "_view_count": null,
            "flex_flow": null,
            "width": null,
            "min_width": null,
            "border": null,
            "align_items": null,
            "bottom": null,
            "_model_module": "@jupyter-widgets/base",
            "top": null,
            "grid_column": null,
            "overflow_y": null,
            "overflow_x": null,
            "grid_auto_flow": null,
            "grid_area": null,
            "grid_template_columns": null,
            "flex": null,
            "_model_name": "LayoutModel",
            "justify_items": null,
            "grid_row": null,
            "max_height": null,
            "align_content": null,
            "visibility": null,
            "align_self": null,
            "height": null,
            "min_height": null,
            "padding": null,
            "grid_auto_rows": null,
            "grid_gap": null,
            "max_width": null,
            "order": null,
            "_view_module_version": "1.2.0",
            "grid_template_areas": null,
            "object_position": null,
            "object_fit": null,
            "grid_auto_columns": null,
            "margin": null,
            "display": null,
            "left": null
          }
        },
        "d30033b895e7403da44be242a5ffdb8f": {
          "model_module": "@jupyter-widgets/controls",
          "model_name": "DescriptionStyleModel",
          "model_module_version": "1.5.0",
          "state": {
            "_view_name": "StyleView",
            "_model_name": "DescriptionStyleModel",
            "description_width": "",
            "_view_module": "@jupyter-widgets/base",
            "_model_module_version": "1.5.0",
            "_view_count": null,
            "_view_module_version": "1.2.0",
            "_model_module": "@jupyter-widgets/controls"
          }
        },
        "10231796d7104d608384e6a2389a3beb": {
          "model_module": "@jupyter-widgets/base",
          "model_name": "LayoutModel",
          "model_module_version": "1.2.0",
          "state": {
            "_view_name": "LayoutView",
            "grid_template_rows": null,
            "right": null,
            "justify_content": null,
            "_view_module": "@jupyter-widgets/base",
            "overflow": null,
            "_model_module_version": "1.2.0",
            "_view_count": null,
            "flex_flow": null,
            "width": null,
            "min_width": null,
            "border": null,
            "align_items": null,
            "bottom": null,
            "_model_module": "@jupyter-widgets/base",
            "top": null,
            "grid_column": null,
            "overflow_y": null,
            "overflow_x": null,
            "grid_auto_flow": null,
            "grid_area": null,
            "grid_template_columns": null,
            "flex": null,
            "_model_name": "LayoutModel",
            "justify_items": null,
            "grid_row": null,
            "max_height": null,
            "align_content": null,
            "visibility": null,
            "align_self": null,
            "height": null,
            "min_height": null,
            "padding": null,
            "grid_auto_rows": null,
            "grid_gap": null,
            "max_width": null,
            "order": null,
            "_view_module_version": "1.2.0",
            "grid_template_areas": null,
            "object_position": null,
            "object_fit": null,
            "grid_auto_columns": null,
            "margin": null,
            "display": null,
            "left": null
          }
        },
        "62bb73be6c234100a8de0820a91b2e03": {
          "model_module": "@jupyter-widgets/controls",
          "model_name": "HBoxModel",
          "model_module_version": "1.5.0",
          "state": {
            "_view_name": "HBoxView",
            "_dom_classes": [],
            "_model_name": "HBoxModel",
            "_view_module": "@jupyter-widgets/controls",
            "_model_module_version": "1.5.0",
            "_view_count": null,
            "_view_module_version": "1.5.0",
            "box_style": "",
            "layout": "IPY_MODEL_4d13d1ca42fe49f599b1e2a42b58ddb4",
            "_model_module": "@jupyter-widgets/controls",
            "children": [
              "IPY_MODEL_f1c46b0584084be293250c11cea89250",
              "IPY_MODEL_edf5d36697bc418184b8a297fe4729e9"
            ]
          }
        },
        "4d13d1ca42fe49f599b1e2a42b58ddb4": {
          "model_module": "@jupyter-widgets/base",
          "model_name": "LayoutModel",
          "model_module_version": "1.2.0",
          "state": {
            "_view_name": "LayoutView",
            "grid_template_rows": null,
            "right": null,
            "justify_content": null,
            "_view_module": "@jupyter-widgets/base",
            "overflow": null,
            "_model_module_version": "1.2.0",
            "_view_count": null,
            "flex_flow": null,
            "width": null,
            "min_width": null,
            "border": null,
            "align_items": null,
            "bottom": null,
            "_model_module": "@jupyter-widgets/base",
            "top": null,
            "grid_column": null,
            "overflow_y": null,
            "overflow_x": null,
            "grid_auto_flow": null,
            "grid_area": null,
            "grid_template_columns": null,
            "flex": null,
            "_model_name": "LayoutModel",
            "justify_items": null,
            "grid_row": null,
            "max_height": null,
            "align_content": null,
            "visibility": null,
            "align_self": null,
            "height": null,
            "min_height": null,
            "padding": null,
            "grid_auto_rows": null,
            "grid_gap": null,
            "max_width": null,
            "order": null,
            "_view_module_version": "1.2.0",
            "grid_template_areas": null,
            "object_position": null,
            "object_fit": null,
            "grid_auto_columns": null,
            "margin": null,
            "display": null,
            "left": null
          }
        },
        "f1c46b0584084be293250c11cea89250": {
          "model_module": "@jupyter-widgets/controls",
          "model_name": "FloatProgressModel",
          "model_module_version": "1.5.0",
          "state": {
            "_view_name": "ProgressView",
            "style": "IPY_MODEL_6b83837dfe5340da8f46d28a9b4174af",
            "_dom_classes": [],
            "description": "Downloading: 100%",
            "_model_name": "FloatProgressModel",
            "bar_style": "success",
            "max": 1434601,
            "_view_module": "@jupyter-widgets/controls",
            "_model_module_version": "1.5.0",
            "value": 1434601,
            "_view_count": null,
            "_view_module_version": "1.5.0",
            "orientation": "horizontal",
            "min": 0,
            "description_tooltip": null,
            "_model_module": "@jupyter-widgets/controls",
            "layout": "IPY_MODEL_86ffa3632c564910b46583bfb6a02822"
          }
        },
        "edf5d36697bc418184b8a297fe4729e9": {
          "model_module": "@jupyter-widgets/controls",
          "model_name": "HTMLModel",
          "model_module_version": "1.5.0",
          "state": {
            "_view_name": "HTMLView",
            "style": "IPY_MODEL_a171646056ef4427a719447240030e6d",
            "_dom_classes": [],
            "description": "",
            "_model_name": "HTMLModel",
            "placeholder": "​",
            "_view_module": "@jupyter-widgets/controls",
            "_model_module_version": "1.5.0",
            "value": " 1.43M/1.43M [00:00&lt;00:00, 1.88MB/s]",
            "_view_count": null,
            "_view_module_version": "1.5.0",
            "description_tooltip": null,
            "_model_module": "@jupyter-widgets/controls",
            "layout": "IPY_MODEL_47d18adae265412fbd919992d4131dec"
          }
        },
        "6b83837dfe5340da8f46d28a9b4174af": {
          "model_module": "@jupyter-widgets/controls",
          "model_name": "ProgressStyleModel",
          "model_module_version": "1.5.0",
          "state": {
            "_view_name": "StyleView",
            "_model_name": "ProgressStyleModel",
            "description_width": "initial",
            "_view_module": "@jupyter-widgets/base",
            "_model_module_version": "1.5.0",
            "_view_count": null,
            "_view_module_version": "1.2.0",
            "bar_color": null,
            "_model_module": "@jupyter-widgets/controls"
          }
        },
        "86ffa3632c564910b46583bfb6a02822": {
          "model_module": "@jupyter-widgets/base",
          "model_name": "LayoutModel",
          "model_module_version": "1.2.0",
          "state": {
            "_view_name": "LayoutView",
            "grid_template_rows": null,
            "right": null,
            "justify_content": null,
            "_view_module": "@jupyter-widgets/base",
            "overflow": null,
            "_model_module_version": "1.2.0",
            "_view_count": null,
            "flex_flow": null,
            "width": null,
            "min_width": null,
            "border": null,
            "align_items": null,
            "bottom": null,
            "_model_module": "@jupyter-widgets/base",
            "top": null,
            "grid_column": null,
            "overflow_y": null,
            "overflow_x": null,
            "grid_auto_flow": null,
            "grid_area": null,
            "grid_template_columns": null,
            "flex": null,
            "_model_name": "LayoutModel",
            "justify_items": null,
            "grid_row": null,
            "max_height": null,
            "align_content": null,
            "visibility": null,
            "align_self": null,
            "height": null,
            "min_height": null,
            "padding": null,
            "grid_auto_rows": null,
            "grid_gap": null,
            "max_width": null,
            "order": null,
            "_view_module_version": "1.2.0",
            "grid_template_areas": null,
            "object_position": null,
            "object_fit": null,
            "grid_auto_columns": null,
            "margin": null,
            "display": null,
            "left": null
          }
        },
        "a171646056ef4427a719447240030e6d": {
          "model_module": "@jupyter-widgets/controls",
          "model_name": "DescriptionStyleModel",
          "model_module_version": "1.5.0",
          "state": {
            "_view_name": "StyleView",
            "_model_name": "DescriptionStyleModel",
            "description_width": "",
            "_view_module": "@jupyter-widgets/base",
            "_model_module_version": "1.5.0",
            "_view_count": null,
            "_view_module_version": "1.2.0",
            "_model_module": "@jupyter-widgets/controls"
          }
        },
        "47d18adae265412fbd919992d4131dec": {
          "model_module": "@jupyter-widgets/base",
          "model_name": "LayoutModel",
          "model_module_version": "1.2.0",
          "state": {
            "_view_name": "LayoutView",
            "grid_template_rows": null,
            "right": null,
            "justify_content": null,
            "_view_module": "@jupyter-widgets/base",
            "overflow": null,
            "_model_module_version": "1.2.0",
            "_view_count": null,
            "flex_flow": null,
            "width": null,
            "min_width": null,
            "border": null,
            "align_items": null,
            "bottom": null,
            "_model_module": "@jupyter-widgets/base",
            "top": null,
            "grid_column": null,
            "overflow_y": null,
            "overflow_x": null,
            "grid_auto_flow": null,
            "grid_area": null,
            "grid_template_columns": null,
            "flex": null,
            "_model_name": "LayoutModel",
            "justify_items": null,
            "grid_row": null,
            "max_height": null,
            "align_content": null,
            "visibility": null,
            "align_self": null,
            "height": null,
            "min_height": null,
            "padding": null,
            "grid_auto_rows": null,
            "grid_gap": null,
            "max_width": null,
            "order": null,
            "_view_module_version": "1.2.0",
            "grid_template_areas": null,
            "object_position": null,
            "object_fit": null,
            "grid_auto_columns": null,
            "margin": null,
            "display": null,
            "left": null
          }
        }
      }
    }
  },
  "cells": [
    {
      "cell_type": "code",
      "metadata": {
        "id": "fku-qMunVt88",
        "colab": {
          "base_uri": "https://localhost:8080/"
        },
        "outputId": "c478c686-efd0-40c9-b436-4b4a66d9ac78"
      },
      "source": [
        "!pip install transformers --quiet"
      ],
      "execution_count": null,
      "outputs": [
        {
          "output_type": "stream",
          "text": [
            "\u001b[K     |████████████████████████████████| 2.3MB 8.2MB/s \n",
            "\u001b[K     |████████████████████████████████| 3.3MB 49.1MB/s \n",
            "\u001b[K     |████████████████████████████████| 901kB 34.1MB/s \n",
            "\u001b[K     |████████████████████████████████| 235kB 8.1MB/s \n",
            "\u001b[K     |████████████████████████████████| 245kB 28.0MB/s \n",
            "\u001b[K     |████████████████████████████████| 112kB 35.7MB/s \n",
            "\u001b[?25h"
          ],
          "name": "stdout"
        }
      ]
    },
    {
      "cell_type": "code",
      "metadata": {
        "colab": {
          "base_uri": "https://localhost:8080/"
        },
        "id": "Rrg3QsOGsgxn",
        "outputId": "74c7eac7-4308-4157-e20f-56ee3fb2542c"
      },
      "source": [
        "from google.colab import drive\n",
        "drive.mount('/content/drive')"
      ],
      "execution_count": null,
      "outputs": [
        {
          "output_type": "stream",
          "text": [
            "Mounted at /content/drive\n"
          ],
          "name": "stdout"
        }
      ]
    },
    {
      "cell_type": "code",
      "metadata": {
        "id": "izNZA9WdsiYR"
      },
      "source": [
        "import os\n",
        "root_dir = \"/content/drive/My Drive/<Name>/\"\n",
        "os.chdir(root_dir)"
      ],
      "execution_count": null,
      "outputs": []
    },
    {
      "cell_type": "code",
      "metadata": {
        "id": "IGaB6kjasiiP"
      },
      "source": [
        "import torch\n",
        "import numpy as np\n",
        "from transformers import AdamW\n",
        "from transformers import get_linear_schedule_with_warmup"
      ],
      "execution_count": null,
      "outputs": []
    },
    {
      "cell_type": "code",
      "metadata": {
        "id": "FYgHEDSvPjrI"
      },
      "source": [
        "code_dir = \"./src/\" "
      ],
      "execution_count": null,
      "outputs": []
    },
    {
      "cell_type": "code",
      "metadata": {
        "id": "yNrGs2bQUjp_",
        "colab": {
          "base_uri": "https://localhost:8080/",
          "height": 113,
          "referenced_widgets": [
            "6fa24732372e44eebe03b169ddb0481f",
            "2749dfdd4c3d41f5b5e13f4e06d3f89e",
            "626c47ef76c745eeab860f509d9d11a9",
            "0cb833b83c034475ba89f6f62cb66e6c",
            "11883daec8f045d88a6810c978e41878",
            "51e80c9acd0a4e01b0f30d658a00e848",
            "d30033b895e7403da44be242a5ffdb8f",
            "10231796d7104d608384e6a2389a3beb",
            "62bb73be6c234100a8de0820a91b2e03",
            "4d13d1ca42fe49f599b1e2a42b58ddb4",
            "f1c46b0584084be293250c11cea89250",
            "edf5d36697bc418184b8a297fe4729e9",
            "6b83837dfe5340da8f46d28a9b4174af",
            "86ffa3632c564910b46583bfb6a02822",
            "a171646056ef4427a719447240030e6d",
            "47d18adae265412fbd919992d4131dec"
          ]
        },
        "outputId": "bab2cae3-a276-45a8-a743-ccc83cf1d524"
      },
      "source": [
        "os.chdir(code_dir)\n",
        "import config, dataset, model, engine\n",
        "import new_dataset ## our masking scheme "
      ],
      "execution_count": null,
      "outputs": [
        {
          "output_type": "display_data",
          "data": {
            "application/vnd.jupyter.widget-view+json": {
              "model_id": "6fa24732372e44eebe03b169ddb0481f",
              "version_minor": 0,
              "version_major": 2
            },
            "text/plain": [
              "HBox(children=(FloatProgress(value=0.0, description='Downloading', max=2952532.0, style=ProgressStyle(descript…"
            ]
          },
          "metadata": {
            "tags": []
          }
        },
        {
          "output_type": "stream",
          "text": [
            "\n"
          ],
          "name": "stdout"
        },
        {
          "output_type": "display_data",
          "data": {
            "application/vnd.jupyter.widget-view+json": {
              "model_id": "62bb73be6c234100a8de0820a91b2e03",
              "version_minor": 0,
              "version_major": 2
            },
            "text/plain": [
              "HBox(children=(FloatProgress(value=0.0, description='Downloading', max=1434601.0, style=ProgressStyle(descript…"
            ]
          },
          "metadata": {
            "tags": []
          }
        },
        {
          "output_type": "stream",
          "text": [
            "\n"
          ],
          "name": "stdout"
        }
      ]
    },
    {
      "cell_type": "code",
      "metadata": {
        "id": "RwO71aMlVdl3"
      },
      "source": [
        "def process_data(fil_text: str, fil_lid: str):\n",
        "    \"\"\"\n",
        "    Get sentences from files and create a list for dataset\n",
        "    creation.\n",
        "\n",
        "    There should be a file called fil + \".tgd\" which maintains\n",
        "    a parallel list of tags.\n",
        "\n",
        "    Args:\n",
        "        fil (str): File name of the code-mix sentences\n",
        "    Return:\n",
        "        texts (list), lidtags (list)\n",
        "    \"\"\"\n",
        "\n",
        "    with open(fil_text,\"r\") as fh:  \n",
        "        data = fh.read()\n",
        "    \n",
        "    print(\"Read data file\")\n",
        "\n",
        "    with open(fil_lid,\"r\") as fh: \n",
        "        tags = fh.read()\n",
        "\n",
        "    print(\"Read tags file\")\n",
        "\n",
        "    data = data.split(\"\\n\")\n",
        "    tags = tags.split(\"\\n\")\n",
        "\n",
        "    # Remove extra new line at the end\n",
        "    data = data[:-1]\n",
        "    tags = tags[:-1]\n",
        "\n",
        "    # texts = [text.split() for text in data]\n",
        "    # lidtags = [senttag.split() for senttag in tags]\n",
        "\n",
        "    return data, tags"
      ],
      "execution_count": null,
      "outputs": []
    },
    {
      "cell_type": "code",
      "metadata": {
        "id": "QiC7mIFWVzTp"
      },
      "source": [
        "data_dir = \"/content/drive/My Drive/<Name>\"\n",
        "\n",
        "os.chdir(root_dir)\n",
        "\n",
        "train_text_file = data_dir + \"<file_name>\"\n",
        "train_lid_file = data_dir + \"<file_name>\"\n",
        "\n",
        "val_text_file = data_dir + \"<file_name>\"\n",
        "val_lid_file = data_dir + \"<file_name>\"\n",
        "\n",
        "test_text_file = data_dir + \"<file_name>\"\n",
        "test_lid_file = data_dir + \"<file_name>\""
      ],
      "execution_count": null,
      "outputs": []
    },
    {
      "cell_type": "code",
      "metadata": {
        "colab": {
          "base_uri": "https://localhost:8080/"
        },
        "id": "joRqiggRJt_J",
        "outputId": "bb56529d-f8b2-4e87-eddf-b06db7767bc8"
      },
      "source": [
        "train_texts, train_lidtags = process_data(train_text_file, train_lid_file)\n",
        "val_texts, val_lidtags = process_data(val_text_file, val_lid_file)\n",
        "test_texts, test_lidtags = process_data(test_text_file, test_lid_file)"
      ],
      "execution_count": null,
      "outputs": [
        {
          "output_type": "stream",
          "text": [
            "Read data file\n",
            "Read tags file\n",
            "Read data file\n",
            "Read tags file\n",
            "Read data file\n",
            "Read tags file\n"
          ],
          "name": "stdout"
        }
      ]
    },
    {
      "cell_type": "markdown",
      "metadata": {
        "id": "m0S0E7Gw1hRi"
      },
      "source": [
        "## Training Custom Tokenizer [(HuggingFace)](https://huggingface.co/docs/tokenizers/python/latest/quicktour.html)\n"
      ]
    },
    {
      "cell_type": "code",
      "metadata": {
        "id": "SrbMJWFY1gfc"
      },
      "source": [
        "from tokenizers import Tokenizer\n",
        "from tokenizers.models import BPE\n",
        "from tokenizers.pre_tokenizers import Whitespace\n",
        "from tokenizers.trainers import BpeTrainer"
      ],
      "execution_count": null,
      "outputs": []
    },
    {
      "cell_type": "markdown",
      "metadata": {
        "id": "cHN9yvYPesH6"
      },
      "source": [
        "### To train"
      ]
    },
    {
      "cell_type": "code",
      "metadata": {
        "id": "IQfGrYJJ1otH"
      },
      "source": [
        "tokenizer = Tokenizer(BPE()) ## Instialize a ## Byte-Pair Encoding Strategy "
      ],
      "execution_count": null,
      "outputs": []
    },
    {
      "cell_type": "code",
      "metadata": {
        "id": "aR6BvfwQ1s4w"
      },
      "source": [
        "tokenizer.pre_tokenizer = Whitespace() ## split on whitespace"
      ],
      "execution_count": null,
      "outputs": []
    },
    {
      "cell_type": "code",
      "metadata": {
        "colab": {
          "base_uri": "https://localhost:8080/",
          "height": 116
        },
        "id": "f0_2jkJ-1uW0",
        "outputId": "ec601c98-e00b-4b07-fc38-b66b3ecf2779"
      },
      "source": [
        "## Initialize the tokenizer trainer (specify the special tokens to include)\n",
        "trainer = BpeTrainer(vocab_size=30000, show_progress=True, special_tokens=[\"<s>\", \"</s>\", \"<pad>\", \"<unk>\", \"<mask>\"]) \n",
        "'''\n",
        "vocab_size (int, optional) – The size of the final vocabulary, including all tokens and alphabet.\n",
        "\n",
        "min_frequency (int, optional) – The minimum frequency a pair should have in order to be merged.\n",
        "\n",
        "show_progress (bool, optional) – Whether to show progress bars while training.\n",
        "\n",
        "special_tokens (List[Union[str, AddedToken]], optional) – A list of special tokens the model should know of.\n",
        "\n",
        "limit_alphabet (int, optional) – The maximum different characters to keep in the alphabet.\n",
        "\n",
        "initial_alphabet (List[str], optional) – A list of characters to include in the initial alphabet, even if not seen in the training dataset. If the strings contain more than one character, only the first one is kept.\n",
        "\n",
        "continuing_subword_prefix (str, optional) – A prefix to be used for every subword that is not a beginning-of-word.\n",
        "\n",
        "end_of_word_suffix (str, optional) – A suffix to be used for every subword that is a end-of-word. \n",
        "'''"
      ],
      "execution_count": null,
      "outputs": [
        {
          "output_type": "execute_result",
          "data": {
            "application/vnd.google.colaboratory.intrinsic+json": {
              "type": "string"
            },
            "text/plain": [
              "'\\nvocab_size (int, optional) – The size of the final vocabulary, including all tokens and alphabet.\\n\\nmin_frequency (int, optional) – The minimum frequency a pair should have in order to be merged.\\n\\nshow_progress (bool, optional) – Whether to show progress bars while training.\\n\\nspecial_tokens (List[Union[str, AddedToken]], optional) – A list of special tokens the model should know of.\\n\\nlimit_alphabet (int, optional) – The maximum different characters to keep in the alphabet.\\n\\ninitial_alphabet (List[str], optional) – A list of characters to include in the initial alphabet, even if not seen in the training dataset. If the strings contain more than one character, only the first one is kept.\\n\\ncontinuing_subword_prefix (str, optional) – A prefix to be used for every subword that is not a beginning-of-word.\\n\\nend_of_word_suffix (str, optional) – A suffix to be used for every subword that is a end-of-word. \\n'"
            ]
          },
          "metadata": {
            "tags": []
          },
          "execution_count": 12
        }
      ]
    },
    {
      "cell_type": "code",
      "metadata": {
        "id": "u00A1kZd2NC2"
      },
      "source": [
        "## Train the tokenizer on the data \n",
        "tokenizer.train(files=[train_text_file], trainer=trainer)"
      ],
      "execution_count": null,
      "outputs": []
    },
    {
      "cell_type": "code",
      "metadata": {
        "id": "D8HTm3tT4GQT",
        "colab": {
          "base_uri": "https://localhost:8080/"
        },
        "outputId": "4de0b889-1e54-4733-c9ed-31a6988cd9e1"
      },
      "source": [
        "tokenizer.get_vocab_size()"
      ],
      "execution_count": null,
      "outputs": [
        {
          "output_type": "execute_result",
          "data": {
            "text/plain": [
              "30000"
            ]
          },
          "metadata": {
            "tags": []
          },
          "execution_count": 14
        }
      ]
    },
    {
      "cell_type": "markdown",
      "metadata": {
        "id": "-n1ORoLcewWV"
      },
      "source": [
        "### Load Tokenizer"
      ]
    },
    {
      "cell_type": "code",
      "metadata": {
        "id": "ESD0Rp5A2hfk"
      },
      "source": [
        "## Save/ Load the custom tokenizer\n",
        "tokenizer.save(\"/content/drive/My Drive/<name>/tokenizer-cm.json\")\n",
        "# tokenizer = Tokenizer.from_file(\"/content/drive/My Drive/<name>/tokenizer-cm.json\")"
      ],
      "execution_count": null,
      "outputs": []
    },
    {
      "cell_type": "code",
      "metadata": {
        "colab": {
          "base_uri": "https://localhost:8080/",
          "height": 35
        },
        "id": "4lcbqTpRhyVL",
        "outputId": "89d8868c-5edb-407b-d0d9-b5a28d01fe27"
      },
      "source": [
        "## Check soem examples \n",
        "tokenizer.decode([382, 1, 2, 3, 4], skip_special_tokens=False)"
      ],
      "execution_count": null,
      "outputs": [
        {
          "output_type": "execute_result",
          "data": {
            "application/vnd.google.colaboratory.intrinsic+json": {
              "type": "string"
            },
            "text/plain": [
              "'aaj </s> <pad> <unk> <mask>'"
            ]
          },
          "metadata": {
            "tags": []
          },
          "execution_count": 10
        }
      ]
    },
    {
      "cell_type": "code",
      "metadata": {
        "id": "NcHmR0b_cyKX"
      },
      "source": [
        "## Specify the mask token id to be used in MLM training \n",
        "tokenizer.mask_token_id = tokenizer.encode('<mask>').ids[0]"
      ],
      "execution_count": null,
      "outputs": []
    },
    {
      "cell_type": "code",
      "metadata": {
        "colab": {
          "base_uri": "https://localhost:8080/"
        },
        "id": "UZrUmRK4j984",
        "outputId": "7cea8bad-ed60-4b7e-a7df-f82ddb728ed2"
      },
      "source": [
        "tokenizer.encode(\"<s> </s> <pad> <unk> <mask>\").ids ## Confirm special token ids "
      ],
      "execution_count": null,
      "outputs": [
        {
          "output_type": "execute_result",
          "data": {
            "text/plain": [
              "[0, 1, 2, 3, 4]"
            ]
          },
          "metadata": {
            "tags": []
          },
          "execution_count": 12
        }
      ]
    },
    {
      "cell_type": "code",
      "metadata": {
        "colab": {
          "base_uri": "https://localhost:8080/"
        },
        "id": "KoHNOGep2SD9",
        "outputId": "8e2821a3-ca8e-467d-9a8c-84685f76ee46"
      },
      "source": [
        "## Example: token, and token ids \n",
        "output = tokenizer.encode(\"ye toh honahai\")\n",
        "print(output.ids, output.tokens)"
      ],
      "execution_count": null,
      "outputs": [
        {
          "output_type": "stream",
          "text": [
            "[75, 326, 861, 65] ['ye', 'toh', 'hona', 'hai']\n"
          ],
          "name": "stdout"
        }
      ]
    },
    {
      "cell_type": "code",
      "metadata": {
        "id": "YG4Kl86WeZHO"
      },
      "source": [
        "## Save the ids corresponding to the languages (here english-0 and hindi-1)\n",
        "tokenizer.lang2id = {}\n",
        "tokenizer.lang2id[\"en\"] = 0\n",
        "tokenizer.lang2id[\"hi\"] = 1"
      ],
      "execution_count": null,
      "outputs": []
    },
    {
      "cell_type": "code",
      "metadata": {
        "colab": {
          "base_uri": "https://localhost:8080/"
        },
        "id": "RE_shWD-e_ke",
        "outputId": "fefc673d-0453-4197-bb84-660bbcab62a6"
      },
      "source": [
        "tokenizer.lang2id"
      ],
      "execution_count": null,
      "outputs": [
        {
          "output_type": "execute_result",
          "data": {
            "text/plain": [
              "{'en': 0, 'hi': 1}"
            ]
          },
          "metadata": {
            "tags": []
          },
          "execution_count": 15
        }
      ]
    },
    {
      "cell_type": "code",
      "metadata": {
        "colab": {
          "base_uri": "https://localhost:8080/"
        },
        "id": "cJkM4Jip27rG",
        "outputId": "2cc5f68b-dc84-4ae1-d144-53d1b2c0c68c"
      },
      "source": [
        "## Pre-processing and creating dataset object. \n",
        "train_texts, train_lidtags = process_data(train_text_file, train_lid_file)\n",
        "# train_dataset = dataset.LIDdataset(train_texts, train_lidtags, tokenizer)\n",
        "train_dataset = dataset.LIDdataset(train_texts[:329214], train_lidtags[:329214], tokenizer)"
      ],
      "execution_count": null,
      "outputs": [
        {
          "output_type": "stream",
          "text": [
            "Read data file\n",
            "Read tags file\n"
          ],
          "name": "stdout"
        }
      ]
    },
    {
      "cell_type": "code",
      "metadata": {
        "colab": {
          "base_uri": "https://localhost:8080/"
        },
        "id": "_y6kuCUJLMaE",
        "outputId": "0b5566fe-123a-4acc-f166-b8058c179e98"
      },
      "source": [
        "len(train_texts)"
      ],
      "execution_count": null,
      "outputs": [
        {
          "output_type": "execute_result",
          "data": {
            "text/plain": [
              "9876425"
            ]
          },
          "metadata": {
            "tags": []
          },
          "execution_count": 17
        }
      ]
    },
    {
      "cell_type": "markdown",
      "metadata": {
        "id": "FiO5UEjw4YqT"
      },
      "source": [
        "### Comparison of tokenizers\n"
      ]
    },
    {
      "cell_type": "code",
      "metadata": {
        "id": "fKSQezIpdoPJ"
      },
      "source": [
        "train_dataset_new = new_dataset.LIDdataset(train_texts, train_lidtags, tokenizer) ## Load a dataset using modified tokenizer (weighted sampling frequency)"
      ],
      "execution_count": null,
      "outputs": []
    },
    {
      "cell_type": "code",
      "metadata": {
        "id": "vlc9r3sLgwr8"
      },
      "source": [
        "train_dataset_old = dataset.LIDdataset(train_texts, train_lidtags, tokenizer) ## Load a dataset using a normal tokenizer"
      ],
      "execution_count": null,
      "outputs": []
    },
    {
      "cell_type": "code",
      "metadata": {
        "colab": {
          "base_uri": "https://localhost:8080/"
        },
        "id": "_xrBefNn2hlV",
        "outputId": "a2e2f1fe-86d8-403d-b885-4d204f938a84"
      },
      "source": [
        "tokenized_text = tokenizer.encode(\" \".join([text.strip() for text in eval(train_texts[312])])).tokens\n",
        "print(tokenized_text)\n",
        "print(train_dataset_new.__getitem__(312)['langs'].tolist()[1:len(tokenized_text)+1])"
      ],
      "execution_count": null,
      "outputs": [
        {
          "output_type": "stream",
          "text": [
            "['wish', 'u', 'a', 'very', 'long', 'life', 'spna', 'g', 'bcz', 'i', 'm', 'your', 'big', 'fan']\n",
            "[0, 0, 0, 0, 0, 0, 1, 1, 0, 1, 1, 0, 0, 0]\n"
          ],
          "name": "stdout"
        }
      ]
    },
    {
      "cell_type": "code",
      "metadata": {
        "id": "-ReVrzkxg7ms",
        "colab": {
          "base_uri": "https://localhost:8080/"
        },
        "outputId": "0fb27ad4-a08b-4f27-dc96-3b13a0b04ab9"
      },
      "source": [
        "train_dataset_new.__getitem__(312)"
      ],
      "execution_count": null,
      "outputs": [
        {
          "output_type": "stream",
          "text": [
            "{'en': 0.15, 'hi': 0.21428571428571427}\n"
          ],
          "name": "stdout"
        },
        {
          "output_type": "execute_result",
          "data": {
            "text/plain": [
              "{'attention_mask': tensor([1, 1, 1, 1, 1, 1, 1, 1, 1, 1, 1, 1, 1, 1, 1, 1, 0, 0, 0, 0, 0, 0, 0, 0,\n",
              "         0, 0, 0, 0, 0, 0, 0, 0, 0, 0, 0, 0, 0, 0, 0, 0, 0, 0, 0, 0, 0, 0, 0, 0,\n",
              "         0, 0, 0, 0, 0, 0, 0, 0, 0, 0, 0, 0, 0, 0, 0, 0, 0, 0, 0, 0, 0, 0, 0, 0,\n",
              "         0, 0, 0, 0, 0, 0, 0, 0, 0, 0, 0, 0, 0, 0, 0, 0, 0, 0, 0, 0, 0, 0, 0, 0,\n",
              "         0, 0, 0, 0, 0, 0, 0, 0, 0, 0, 0, 0, 0, 0, 0, 0, 0, 0, 0, 0, 0, 0, 0, 0,\n",
              "         0, 0, 0, 0, 0, 0, 0, 0]),\n",
              " 'input_ids': tensor([    0,   506,    39,    19,   207,  1126,   550, 17696,    25,  2443,\n",
              "            27,    31,   259,   389,   291,     1,     0,     0,     0,     0,\n",
              "             0,     0,     0,     0,     0,     0,     0,     0,     0,     0,\n",
              "             0,     0,     0,     0,     0,     0,     0,     0,     0,     0,\n",
              "             0,     0,     0,     0,     0,     0,     0,     0,     0,     0,\n",
              "             0,     0,     0,     0,     0,     0,     0,     0,     0,     0,\n",
              "             0,     0,     0,     0,     0,     0,     0,     0,     0,     0,\n",
              "             0,     0,     0,     0,     0,     0,     0,     0,     0,     0,\n",
              "             0,     0,     0,     0,     0,     0,     0,     0,     0,     0,\n",
              "             0,     0,     0,     0,     0,     0,     0,     0,     0,     0,\n",
              "             0,     0,     0,     0,     0,     0,     0,     0,     0,     0,\n",
              "             0,     0,     0,     0,     0,     0,     0,     0,     0,     0,\n",
              "             0,     0,     0,     0,     0,     0,     0,     0]),\n",
              " 'labels': tensor([-100, -100, -100, -100, -100, -100,  550, -100, -100, -100, -100, -100,\n",
              "         -100, -100, -100,  100, -100, -100, -100, -100, -100, -100, -100, -100,\n",
              "         -100, -100, -100, -100, -100, -100, -100, -100, -100, -100, -100, -100,\n",
              "         -100, -100, -100, -100, -100, -100, -100, -100, -100, -100, -100, -100,\n",
              "         -100, -100, -100, -100, -100, -100, -100, -100, -100, -100, -100, -100,\n",
              "         -100, -100, -100, -100, -100, -100, -100, -100, -100, -100, -100, -100,\n",
              "         -100, -100, -100, -100, -100, -100, -100, -100, -100, -100, -100, -100,\n",
              "         -100, -100, -100, -100, -100, -100, -100, -100, -100, -100, -100, -100,\n",
              "         -100, -100, -100, -100, -100, -100, -100, -100, -100, -100, -100, -100,\n",
              "         -100, -100, -100, -100, -100, -100, -100, -100, -100, -100, -100, -100,\n",
              "         -100, -100, -100, -100, -100, -100, -100, -100]),\n",
              " 'langs': tensor([0, 0, 0, 0, 0, 0, 0, 1, 1, 0, 1, 1, 0, 0, 0, 0, 0, 0, 0, 0, 0, 0, 0, 0,\n",
              "         0, 0, 0, 0, 0, 0, 0, 0, 0, 0, 0, 0, 0, 0, 0, 0, 0, 0, 0, 0, 0, 0, 0, 0,\n",
              "         0, 0, 0, 0, 0, 0, 0, 0, 0, 0, 0, 0, 0, 0, 0, 0, 0, 0, 0, 0, 0, 0, 0, 0,\n",
              "         0, 0, 0, 0, 0, 0, 0, 0, 0, 0, 0, 0, 0, 0, 0, 0, 0, 0, 0, 0, 0, 0, 0, 0,\n",
              "         0, 0, 0, 0, 0, 0, 0, 0, 0, 0, 0, 0, 0, 0, 0, 0, 0, 0, 0, 0, 0, 0, 0, 0,\n",
              "         0, 0, 0, 0, 0, 0, 0, 0]),\n",
              " 'token_type_ids': tensor([0, 0, 0, 0, 0, 0, 0, 0, 0, 0, 0, 0, 0, 0, 0, 0, 0, 0, 0, 0, 0, 0, 0, 0,\n",
              "         0, 0, 0, 0, 0, 0, 0, 0, 0, 0, 0, 0, 0, 0, 0, 0, 0, 0, 0, 0, 0, 0, 0, 0,\n",
              "         0, 0, 0, 0, 0, 0, 0, 0, 0, 0, 0, 0, 0, 0, 0, 0, 0, 0, 0, 0, 0, 0, 0, 0,\n",
              "         0, 0, 0, 0, 0, 0, 0, 0, 0, 0, 0, 0, 0, 0, 0, 0, 0, 0, 0, 0, 0, 0, 0, 0,\n",
              "         0, 0, 0, 0, 0, 0, 0, 0, 0, 0, 0, 0, 0, 0, 0, 0, 0, 0, 0, 0, 0, 0, 0, 0,\n",
              "         0, 0, 0, 0, 0, 0, 0, 0])}"
            ]
          },
          "metadata": {
            "tags": []
          },
          "execution_count": 23
        }
      ]
    },
    {
      "cell_type": "code",
      "metadata": {
        "id": "MyQhTsTihscp",
        "colab": {
          "base_uri": "https://localhost:8080/"
        },
        "outputId": "608c7f8e-a2e4-4c2a-8172-fad2d5bac894"
      },
      "source": [
        "train_dataset_old.__getitem__(10)"
      ],
      "execution_count": null,
      "outputs": [
        {
          "output_type": "execute_result",
          "data": {
            "text/plain": [
              "{'attention_mask': tensor([1, 1, 1, 1, 1, 1, 1, 1, 1, 1, 1, 1, 0, 0, 0, 0, 0, 0, 0, 0, 0, 0, 0, 0,\n",
              "         0, 0, 0, 0, 0, 0, 0, 0, 0, 0, 0, 0, 0, 0, 0, 0, 0, 0, 0, 0, 0, 0, 0, 0,\n",
              "         0, 0, 0, 0, 0, 0, 0, 0, 0, 0, 0, 0, 0, 0, 0, 0, 0, 0, 0, 0, 0, 0, 0, 0,\n",
              "         0, 0, 0, 0, 0, 0, 0, 0, 0, 0, 0, 0, 0, 0, 0, 0, 0, 0, 0, 0, 0, 0, 0, 0,\n",
              "         0, 0, 0, 0, 0, 0, 0, 0, 0, 0, 0, 0, 0, 0, 0, 0, 0, 0, 0, 0, 0, 0, 0, 0,\n",
              "         0, 0, 0, 0, 0, 0, 0, 0]),\n",
              " 'input_ids': tensor([   0,  382,    4, 9902,  416,   59,  444,    4,  436,   71,   35,    1,\n",
              "            0,    0,    0,    0,    0,    0,    0,    0,    0,    0,    0,    0,\n",
              "            0,    0,    0,    0,    0,    0,    0,    0,    0,    0,    0,    0,\n",
              "            0,    0,    0,    0,    0,    0,    0,    0,    0,    0,    0,    0,\n",
              "            0,    0,    0,    0,    0,    0,    0,    0,    0,    0,    0,    0,\n",
              "            0,    0,    0,    0,    0,    0,    0,    0,    0,    0,    0,    0,\n",
              "            0,    0,    0,    0,    0,    0,    0,    0,    0,    0,    0,    0,\n",
              "            0,    0,    0,    0,    0,    0,    0,    0,    0,    0,    0,    0,\n",
              "            0,    0,    0,    0,    0,    0,    0,    0,    0,    0,    0,    0,\n",
              "            0,    0,    0,    0,    0,    0,    0,    0,    0,    0,    0,    0,\n",
              "            0,    0,    0,    0,    0,    0,    0,    0]),\n",
              " 'labels': tensor([-100, -100,  384, -100, -100, -100, -100,   71, -100, -100, -100, -100,\n",
              "         -100, -100, -100, -100, -100, -100, -100, -100, -100, -100, -100, -100,\n",
              "         -100, -100, -100, -100, -100, -100, -100, -100, -100, -100, -100, -100,\n",
              "         -100, -100, -100, -100, -100, -100, -100, -100, -100, -100, -100, -100,\n",
              "         -100, -100, -100, -100, -100, -100, -100, -100, -100, -100, -100, -100,\n",
              "         -100, -100, -100, -100, -100, -100, -100, -100, -100, -100, -100, -100,\n",
              "         -100, -100, -100, -100, -100, -100, -100, -100, -100, -100, -100, -100,\n",
              "         -100, -100, -100, -100, -100, -100, -100, -100, -100, -100, -100, -100,\n",
              "         -100, -100, -100, -100, -100, -100, -100, -100, -100, -100, -100, -100,\n",
              "         -100, -100, -100, -100, -100, -100, -100, -100, -100, -100, -100, -100,\n",
              "         -100, -100, -100, -100, -100, -100, -100, -100]),\n",
              " 'langs': tensor([0, 1, 1, 0, 0, 1, 1, 1, 1, 1, 1, 0, 0, 0, 0, 0, 0, 0, 0, 0, 0, 0, 0, 0,\n",
              "         0, 0, 0, 0, 0, 0, 0, 0, 0, 0, 0, 0, 0, 0, 0, 0, 0, 0, 0, 0, 0, 0, 0, 0,\n",
              "         0, 0, 0, 0, 0, 0, 0, 0, 0, 0, 0, 0, 0, 0, 0, 0, 0, 0, 0, 0, 0, 0, 0, 0,\n",
              "         0, 0, 0, 0, 0, 0, 0, 0, 0, 0, 0, 0, 0, 0, 0, 0, 0, 0, 0, 0, 0, 0, 0, 0,\n",
              "         0, 0, 0, 0, 0, 0, 0, 0, 0, 0, 0, 0, 0, 0, 0, 0, 0, 0, 0, 0, 0, 0, 0, 0,\n",
              "         0, 0, 0, 0, 0, 0, 0, 0]),\n",
              " 'token_type_ids': tensor([0, 0, 0, 0, 0, 0, 0, 0, 0, 0, 0, 0, 0, 0, 0, 0, 0, 0, 0, 0, 0, 0, 0, 0,\n",
              "         0, 0, 0, 0, 0, 0, 0, 0, 0, 0, 0, 0, 0, 0, 0, 0, 0, 0, 0, 0, 0, 0, 0, 0,\n",
              "         0, 0, 0, 0, 0, 0, 0, 0, 0, 0, 0, 0, 0, 0, 0, 0, 0, 0, 0, 0, 0, 0, 0, 0,\n",
              "         0, 0, 0, 0, 0, 0, 0, 0, 0, 0, 0, 0, 0, 0, 0, 0, 0, 0, 0, 0, 0, 0, 0, 0,\n",
              "         0, 0, 0, 0, 0, 0, 0, 0, 0, 0, 0, 0, 0, 0, 0, 0, 0, 0, 0, 0, 0, 0, 0, 0,\n",
              "         0, 0, 0, 0, 0, 0, 0, 0])}"
            ]
          },
          "metadata": {
            "tags": []
          },
          "execution_count": 21
        }
      ]
    },
    {
      "cell_type": "code",
      "metadata": {
        "id": "m3kMFu-9z2G8"
      },
      "source": [
        "import random "
      ],
      "execution_count": null,
      "outputs": []
    },
    {
      "cell_type": "code",
      "metadata": {
        "colab": {
          "base_uri": "https://localhost:8080/"
        },
        "id": "tuaHYzU1rlBg",
        "outputId": "8ebeb7ea-ed25-4eb0-bcd9-11800b1036b0"
      },
      "source": [
        "nb_exps = 1000 ## number of experiments \n",
        "\n",
        "for sample_no in random.sample(range(1, len(train_texts)), 5): ## Take at max 5 samples from the dataset \n",
        "\n",
        "    token_len = len(tokenizer.encode(train_texts[sample_no]).ids) \n",
        "    old_count = [0]*token_len\n",
        "    new_count = [0]*token_len\n",
        "\n",
        "    for i in range(nb_exps): ## Loop over the number of experiments \n",
        "        lang_ids = old = train_dataset_old.__getitem__(sample_no)['langs'].tolist() ## Simple masking\n",
        "\n",
        "        old = train_dataset_old.__getitem__(sample_no)['input_ids'].tolist() ## Simple masking\n",
        "        new = train_dataset_new.__getitem__(sample_no)['input_ids'].tolist() ## Weighted Masking\n",
        "\n",
        "        for idx in range(1, token_len+1):\n",
        "            if old[idx] == 4: ## Old token masked\n",
        "                old_count[idx-1] += 1\n",
        "            if new[idx] == 4: ## Old token masked\n",
        "                new_count[idx-1] += 1\n",
        "\n",
        "    tokenized_text = tokenizer.encode(\" \".join([text.strip() for text in eval(train_texts[sample_no])])).tokens\n",
        "    print(tokenized_text)\n",
        "\n",
        "    ## Display results (difference in masking probability)\n",
        "    print(f\"{'Token':^12} | {'Lang Id':^7} | {'Old Prob':^12} | {'New Prob':^10} |\")\n",
        "    print(\"-\"*70)\n",
        "    for idx, token in enumerate(tokenized_text):\n",
        "        print(f\"{token:^12} | {lang_ids[idx+1]:^7} | {old_count[idx]/nb_exps:^12} | {new_count[idx]/nb_exps:^10} |\")\n"
      ],
      "execution_count": null,
      "outputs": [
        {
          "output_type": "stream",
          "text": [
            "['ha', 'ha', 'kejriwal', 'the', 'great', 'indian', 'unk', 'show', 'aap', 'comes', 'on', 'tv', 'to', 'get', 'd', 'trp', 'by', 'saying', 'anything', 'completely', 'mockery', 'stuff', 'some', 'time']\n",
            "   Token     | Lang Id |   Old Prob   |  New Prob  |\n",
            "----------------------------------------------------------------------\n",
            "     ha      |    1    |    0.131     |   0.165    |\n",
            "     ha      |    1    |     0.11     |   0.188    |\n",
            "  kejriwal   |    1    |    0.113     |   0.204    |\n",
            "    the      |    0    |    0.146     |    0.14    |\n",
            "   great     |    0    |    0.125     |   0.122    |\n",
            "   indian    |    0    |    0.123     |   0.108    |\n",
            "    unk      |    0    |    0.135     |   0.127    |\n",
            "    show     |    0    |    0.119     |   0.133    |\n",
            "    aap      |    1    |    0.117     |   0.187    |\n",
            "   comes     |    0    |    0.115     |   0.134    |\n",
            "     on      |    0    |    0.131     |   0.092    |\n",
            "     tv      |    1    |    0.124     |   0.194    |\n",
            "     to      |    0    |    0.122     |   0.121    |\n",
            "    get      |    0    |    0.117     |   0.116    |\n",
            "     d       |    1    |    0.118     |   0.165    |\n",
            "    trp      |    0    |    0.116     |   0.126    |\n",
            "     by      |    0    |     0.13     |   0.113    |\n",
            "   saying    |    0    |    0.116     |   0.111    |\n",
            "  anything   |    0    |    0.134     |   0.121    |\n",
            " completely  |    0    |    0.117     |   0.102    |\n",
            "  mockery    |    0    |    0.148     |   0.127    |\n",
            "   stuff     |    0    |    0.125     |   0.105    |\n",
            "    some     |    0    |    0.106     |   0.139    |\n",
            "    time     |    0    |    0.136     |   0.128    |\n",
            "['mai', 'vi', 'to', 'whats', 'app', 'pe', 'nhi', 'hu', 'firvi', 'muje', 'to', 'saram', 'nhi', 'unk', 'p']\n",
            "   Token     | Lang Id |   Old Prob   |  New Prob  |\n",
            "----------------------------------------------------------------------\n",
            "    mai      |    1    |    0.112     |   0.103    |\n",
            "     vi      |    1    |    0.123     |   0.112    |\n",
            "     to      |    0    |    0.117     |   0.195    |\n",
            "   whats     |    0    |    0.122     |   0.188    |\n",
            "    app      |    0    |    0.118     |   0.169    |\n",
            "     pe      |    1    |    0.106     |   0.122    |\n",
            "    nhi      |    1    |    0.128     |   0.119    |\n",
            "     hu      |    1    |    0.105     |   0.109    |\n",
            "   firvi     |    1    |    0.111     |    0.12    |\n",
            "    muje     |    1    |    0.119     |   0.113    |\n",
            "     to      |    1    |    0.119     |   0.115    |\n",
            "   saram     |    1    |    0.116     |   0.123    |\n",
            "    nhi      |    1    |    0.126     |   0.118    |\n",
            "    unk      |    1    |    0.113     |   0.143    |\n",
            "     p       |    0    |    0.113     |   0.181    |\n",
            "['jus', 'play', 'football', 'n', 'badminton', 'ryt', 'aamir', 'nd', 'so', 'ja', 'yar', 'raat', 'men', 'hi', 'kyun', 'ol', 'ata', 'hai']\n",
            "   Token     | Lang Id |   Old Prob   |  New Prob  |\n",
            "----------------------------------------------------------------------\n",
            "    jus      |    0    |    0.119     |    0.19    |\n",
            "    play     |    0    |    0.132     |   0.184    |\n",
            "  football   |    0    |    0.116     |   0.185    |\n",
            "     n       |    0    |    0.106     |   0.175    |\n",
            " badminton   |    0    |    0.128     |   0.175    |\n",
            "    ryt      |    1    |    0.115     |   0.127    |\n",
            "   aamir     |    1    |    0.137     |   0.114    |\n",
            "     nd      |    1    |    0.135     |   0.119    |\n",
            "     so      |    1    |    0.111     |   0.139    |\n",
            "     ja      |    1    |    0.121     |   0.123    |\n",
            "    yar      |    1    |    0.137     |   0.132    |\n",
            "    raat     |    1    |    0.115     |   0.131    |\n",
            "    men      |    1    |    0.124     |   0.119    |\n",
            "     hi      |    1    |    0.107     |   0.128    |\n",
            "    kyun     |    1    |    0.125     |   0.116    |\n",
            "     ol      |    1    |    0.138     |   0.112    |\n",
            "    ata      |    1    |     0.12     |   0.131    |\n",
            "    hai      |    1    |    0.134     |   0.123    |\n",
            "['our', 'kabhi', 'humne', 'doston', 'ka', 'status', 'nahi', 'dekha', 'aaj', 'bhi', 'nahi']\n",
            "   Token     | Lang Id |   Old Prob   |  New Prob  |\n",
            "----------------------------------------------------------------------\n",
            "    our      |    1    |     0.11     |   0.112    |\n",
            "   kabhi     |    1    |    0.132     |   0.123    |\n",
            "   humne     |    1    |    0.113     |   0.123    |\n",
            "   doston    |    1    |    0.134     |   0.121    |\n",
            "     ka      |    1    |    0.127     |   0.124    |\n",
            "   status    |    0    |    0.126     |    0.21    |\n",
            "    nahi     |    1    |    0.115     |   0.109    |\n",
            "   dekha     |    1    |    0.112     |   0.102    |\n",
            "    aaj      |    1    |     0.13     |   0.119    |\n",
            "    bhi      |    1    |    0.122     |   0.113    |\n",
            "    nahi     |    1    |    0.103     |   0.105    |\n",
            "['viru', 'bhai', 'ap', 'ko', 'bhi', 'happy', 'diwali']\n",
            "   Token     | Lang Id |   Old Prob   |  New Prob  |\n",
            "----------------------------------------------------------------------\n",
            "    viru     |    0    |     0.12     |   0.162    |\n",
            "    bhai     |    0    |     0.12     |   0.177    |\n",
            "     ap      |    1    |    0.136     |   0.116    |\n",
            "     ko      |    1    |     0.11     |    0.12    |\n",
            "    bhi      |    1    |    0.117     |   0.119    |\n",
            "   happy     |    1    |     0.14     |   0.123    |\n",
            "   diwali    |    1    |    0.123     |   0.129    |\n"
          ],
          "name": "stdout"
        }
      ]
    },
    {
      "cell_type": "code",
      "metadata": {
        "colab": {
          "base_uri": "https://localhost:8080/"
        },
        "id": "z6g2_pY2su2V",
        "outputId": "12a93f59-1fb5-4550-ad77-3dc676433979"
      },
      "source": [
        "old_count, tokenizer.encode(train_texts[sample_no]).ids"
      ],
      "execution_count": null,
      "outputs": [
        {
          "output_type": "execute_result",
          "data": {
            "text/plain": [
              "([0, 0, 0, 0, 0, 0, 0, 0, 0, 0, 0, 0, 0, 0, 0, 0, 0, 0],\n",
              " [48, 59, 45, 5, 78261, 45, 5, 8504, 45, 5, 2763, 45, 5, 19, 45, 5, 73797, 47])"
            ]
          },
          "metadata": {
            "tags": []
          },
          "execution_count": 119
        }
      ]
    },
    {
      "cell_type": "code",
      "metadata": {
        "colab": {
          "base_uri": "https://localhost:8080/",
          "height": 86
        },
        "id": "dd55mmH7lRjT",
        "outputId": "27a8df10-655d-4dcc-f062-4f78b34dfb73"
      },
      "source": [
        "tokenizer.decode(train_dataset_old.__getitem__(123)['input_ids'].tolist(), skip_special_tokens=False) ## Simple masking"
      ],
      "execution_count": null,
      "outputs": [
        {
          "output_type": "execute_result",
          "data": {
            "application/vnd.google.colaboratory.intrinsic+json": {
              "type": "string"
            },
            "text/plain": [
              "'<s> truck driver ko <mask> padega 3 live ko bach s dis </s> <s> <s> <s> <s> <s> <s> <s> <s> <s> <s> <s> <s> <s> <s> <s> <s> <s> <s> <s> <s> <s> <s> <s> <s> <s> <s> <s> <s> <s> <s> <s> <s> <s> <s> <s> <s> <s> <s> <s> <s> <s> <s> <s> <s> <s> <s> <s> <s> <s> <s> <s> <s> <s> <s> <s> <s> <s> <s> <s> <s> <s> <s> <s> <s> <s> <s> <s> <s> <s> <s> <s> <s> <s> <s> <s> <s> <s> <s> <s> <s> <s> <s> <s> <s> <s> <s> <s> <s> <s> <s> <s> <s> <s> <s> <s> <s> <s> <s> <s> <s> <s> <s> <s> <s> <s> <s> <s> <s> <s> <s> <s> <s> <s> <s> <s>'"
            ]
          },
          "metadata": {
            "tags": []
          },
          "execution_count": 112
        }
      ]
    },
    {
      "cell_type": "code",
      "metadata": {
        "colab": {
          "base_uri": "https://localhost:8080/",
          "height": 86
        },
        "id": "YppbIu54dsam",
        "outputId": "68e43c86-87a2-4000-c37f-db0d1efc507b"
      },
      "source": [
        "tokenizer.decode(train_dataset_new.__getitem__(123)['input_ids'].tolist(), skip_special_tokens=False) ## Weighted Masking"
      ],
      "execution_count": null,
      "outputs": [
        {
          "output_type": "execute_result",
          "data": {
            "application/vnd.google.colaboratory.intrinsic+json": {
              "type": "string"
            },
            "text/plain": [
              "'<s> truck driver ko manna padega 3 live ko <mask> s dis </s> <s> <s> <s> <s> <s> <s> <s> <s> <s> <s> <s> <s> <s> <s> <s> <s> <s> <s> <s> <s> <s> <s> <s> <s> <s> <s> <s> <s> <s> <s> <s> <s> <s> <s> <s> <s> <s> <s> <s> <s> <s> <s> <s> <s> <s> <s> <s> <s> <s> <s> <s> <s> <s> <s> <s> <s> <s> <s> <s> <s> <s> <s> <s> <s> <s> <s> <s> <s> <s> <s> <s> <s> <s> <s> <s> <s> <s> <s> <s> <s> <s> <s> <s> <s> <s> <s> <s> <s> <s> <s> <s> <s> <s> <s> <s> <s> <s> <s> <s> <s> <s> <s> <s> <s> <s> <s> <s> <s> <s> <s> <s> <s> <s> <s> <s>'"
            ]
          },
          "metadata": {
            "tags": []
          },
          "execution_count": 113
        }
      ]
    },
    {
      "cell_type": "code",
      "metadata": {
        "colab": {
          "base_uri": "https://localhost:8080/",
          "height": 35
        },
        "id": "z908fWhshijI",
        "outputId": "5959f008-7786-48ca-e848-b26f41235223"
      },
      "source": [
        "train_texts[123]"
      ],
      "execution_count": null,
      "outputs": [
        {
          "output_type": "execute_result",
          "data": {
            "application/vnd.google.colaboratory.intrinsic+json": {
              "type": "string"
            },
            "text/plain": [
              "\"['truck', 'driver', 'ko', 'manna', 'padega', '3', 'live', 'ko', 'bach', 's', 'dis']\""
            ]
          },
          "metadata": {
            "tags": []
          },
          "execution_count": 114
        }
      ]
    }
  ]
}